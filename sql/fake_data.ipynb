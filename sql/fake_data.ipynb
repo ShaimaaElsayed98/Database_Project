{
 "cells": [
  {
   "cell_type": "code",
   "execution_count": 74,
   "metadata": {},
   "outputs": [],
   "source": [
    "import faker\n",
    "import datetime\n",
    "import random\n",
    "fake = faker.Faker()\n",
    "from os.path import exists\n",
    "from os import remove\n"
   ]
  },
  {
   "cell_type": "code",
   "execution_count": 75,
   "metadata": {},
   "outputs": [
    {
     "data": {
      "text/plain": [
       "15"
      ]
     },
     "execution_count": 75,
     "metadata": {},
     "output_type": "execute_result"
    }
   ],
   "source": [
    "# Database variables\n",
    "# How much fake data you wish to produce\n",
    "\n",
    "#  \n",
    "# Change the value of num_researchers based on the total researchers of the project\n",
    "#\n",
    "num_researchers = 100\n",
    "\n",
    "#\n",
    "# Change the value of num_projects based on the projects you wish to produce\n",
    "#\n",
    "num_projects = 50\n",
    "\n",
    "#\n",
    "# Change the value of num_organisations based on the organisations of the database\n",
    "#\n",
    "num_organisations = 10\n",
    "\n",
    "#\n",
    "# Number of executives of the database\n",
    "#\n",
    "num_execs = 10\n",
    "\n",
    "#\n",
    "# Number of programs that fund projects\n",
    "#\n",
    "num_progs = 15\n",
    "\n",
    "#\n",
    "# Number of programs that fund projects\n",
    "#\n",
    "num_scifi = 50\n",
    "\n",
    "###############\n",
    "#File to write#\n",
    "###############\n",
    "if exists(\"/mnt/c/Users/User/Desktop/insertions.sql\"):\n",
    "    os.remove(\"/mnt/c/Users/User/Desktop/insertions.sql\")\n",
    "f = open(\"/mnt/c/Users/User/Desktop/insertions.sql\", \"a\")\n",
    "f.write(\"USE `Elidek`;\\n\\n\")\n"
   ]
  },
  {
   "cell_type": "code",
   "execution_count": 76,
   "metadata": {},
   "outputs": [
    {
     "data": {
      "text/plain": [
       "2"
      ]
     },
     "execution_count": 76,
     "metadata": {},
     "output_type": "execute_result"
    }
   ],
   "source": [
    "# RESEARCHERS\n",
    "f.write(\"-- INSERT RESEARCHER ROWS\\n\\n\")\n",
    "\n",
    "# The list of researchers, useful for future use\n",
    "res_info = {key:{key_in: None for key_in in ['id','date_of_birth']} for key in range(1,num_researchers + 1)}\n",
    "\n",
    "''' RESEARCHER QUERIES'''\n",
    "for k in range(1,num_researchers+1):\n",
    "    gender = random.choice([\"M\", \"F\"])\n",
    "    first_name = fake.first_name_male() if gender == 'M' else fake.first_name_female()\n",
    "    last_name = fake.last_name()\n",
    "    date_of_birth = fake.date_of_birth(minimum_age = 18, maximum_age = 67)\n",
    "    res_info[k]['id'] = k\n",
    "    res_info[k]['date_of_birth'] = date_of_birth\n",
    "    \n",
    "    f.write(\"INSERT INTO Researchers (`name`, `last_name`, `gender`, `Date_of_Birth`)\\nValues('\"+ first_name+\"','\"+last_name+\"','\"+gender+\"','\"+str(date_of_birth)+\"');\\n\")\n",
    "f.write(\"\\n\\n\")"
   ]
  },
  {
   "cell_type": "code",
   "execution_count": 77,
   "metadata": {},
   "outputs": [
    {
     "data": {
      "text/plain": [
       "2"
      ]
     },
     "execution_count": 77,
     "metadata": {},
     "output_type": "execute_result"
    }
   ],
   "source": [
    "# SCIENTIFIC FIELDS\n",
    "f.write(\"-- INSERT SCIENTIFIC FIELDS ROWS\\n\\n\")\n",
    "\n",
    "# List of scientific fields\n",
    "sci_fi_fields = [\"Arts\", \"Mathematics\", \"Computer Science\", \"Medicine\", \"Physics\", \"Telecommunications\", \"Chemistry\", \"Architecture\", \"Mechanical Engineering\", \"Electrical Engineering\", \"Metallyrgy\", \"Mining Engineering\"]\n",
    "for name in sci_fi_fields:\n",
    "    f.write(\"INSERT INTO Scientific_Fields (`Name`)\\nValues('\"+name+\"');\\n\")\n",
    "f.write(\"\\n\\n\")"
   ]
  },
  {
   "cell_type": "code",
   "execution_count": 78,
   "metadata": {},
   "outputs": [
    {
     "data": {
      "text/plain": [
       "2"
      ]
     },
     "execution_count": 78,
     "metadata": {},
     "output_type": "execute_result"
    }
   ],
   "source": [
    "# PROGRAMS\n",
    "f.write(\"-- INSERT PROGRAMS ROWS\\n\\n\")\n",
    "\n",
    "for k in range(1,num_progs+1):\n",
    "    prog_name = \"The\" + fake.catch_phrase() + \"Fund\"\n",
    "    Department = random.choice([\"School of Civil Engineering\",\"School of Mechanical Engineering\",\"School of Electrical & Computer Engineering\",\"School of Architecture\",\"School of Chemical Engineering\",\"School of Rural, Surveying and Geoinformatics Engineering\",\"School of Mining & Metallurgical Engineering\",\"School of Naval Architecture & Marine Engineering\",\"School of Applied Mathematics & Physical Sciences\"]) \n",
    "    f.write(\"INSERT INTO Programs (`Name`,`Department`)\\nValues('\"+prog_name+\"','\"+Department+\"');\\n\")\n",
    "f.write(\"\\n\\n\")"
   ]
  },
  {
   "cell_type": "code",
   "execution_count": 79,
   "metadata": {},
   "outputs": [
    {
     "data": {
      "text/plain": [
       "2"
      ]
     },
     "execution_count": 79,
     "metadata": {},
     "output_type": "execute_result"
    }
   ],
   "source": [
    "# EXECUTIVES\n",
    "f.write(\"-- INSERT EXECUTIVES ROWS\\n\\n\")\n",
    "\n",
    "for k in range(1,num_execs+1):\n",
    "    gender = random.choice([\"M\", \"F\"])\n",
    "    first_name = fake.first_name_male() if gender == 'M' else fake.first_name_female()\n",
    "    last_name = fake.last_name()\n",
    "    f.write(\"INSERT INTO Executives (`First_name`,`Last_name`)\\nValues('\"+first_name+\"','\"+last_name+\"');\\n\")\n",
    "f.write(\"\\n\\n\")"
   ]
  },
  {
   "cell_type": "code",
   "execution_count": 80,
   "metadata": {},
   "outputs": [
    {
     "data": {
      "text/plain": [
       "2"
      ]
     },
     "execution_count": 80,
     "metadata": {},
     "output_type": "execute_result"
    }
   ],
   "source": [
    "# ORGANISATION\n",
    "f.write(\"-- INSERT ORGANISATION ROWS\\n\\n\")\n",
    "orgs = []\n",
    "def fake_phone_number(fakeobj) -> str:\n",
    "    return f'+30 {fakeobj.msisdn()[3:]}'\n",
    "\n",
    "for tel,k in zip(range(1,num_organisations+1),range(1,num_organisations+1)):\n",
    "    org_type = random.choice([\"University\", \"Company\", \"Research Centre\"])\n",
    "    street = str(fake.street_name())\n",
    "    street_num = str(random.randint(1,999))\n",
    "    postal = str(fake.postalcode())\n",
    "    city = str(fake.city())\n",
    "    funding = 10000000\n",
    "    phone = fake_phone_number(fake)\n",
    "    if (org_type == \"University\"):\n",
    "        name = \"University of \"+ city\n",
    "        abbr = ''.join(map(str, [s[0] for s in name.upper().split()]))\n",
    "        f.write(\"INSERT INTO Organization (`Org_id`,`Name`,`Abbreviation`,`Address_Street`,`Address_Street_Number`,`Address_Postal_Code`, `Address_City`)\\nValues(\"+str(k)+\",'\"+name+\"','\"+abbr+\"','\"+street+\"',\"+street_num+\",\"+postal+\",'\"+city+\"');\\n\")\n",
    "        f.write(\"INSERT INTO University (`Org_id`,`Ministry_funding`)\\nValues(\"+str(k)+\",\"+str(funding)+\");\\n\")\n",
    "        \n",
    "    elif (org_type == \"Company\"):\n",
    "        name = str(fake.company())\n",
    "        abbr = ''.join(map(str, [s[0] for s in name.upper().split()]))\n",
    "        f.write(\"INSERT INTO Organization (`Name`,`Abbreviation`,`Address_Street`,`Address_Street_Number`,`Address_Postal_Code`, `Address_City`)\\nValues('\"+name+\"','\"+abbr+\"','\"+street+\"',\"+street_num+\",\"+postal+\",'\"+city+\"');\\n\")\n",
    "        f.write(\"INSERT INTO Corporation (`org_id`,`Equity_Capital`)\\nValues(\"+str(k)+\",\"+str(funding)+\");\\n\")\n",
    "    else:\n",
    "        name = \"Institute of \" + str(fake.company())\n",
    "        abbr = ''.join(map(str, [s[0] for s in name.upper().split()[:-1]]))\n",
    "        priv_sec = random.randint(1,10) * 0.1 * funding\n",
    "        pub_sec = funding - priv_sec\n",
    "        f.write(\"INSERT INTO Organization (`Name`,`Abbreviation`,`Address_Street`,`Address_Street_Number`,`Address_Postal_Code`, `Address_City`)\\nValues('\"+name+\"','\"+abbr+\"','\"+street+\"',\"+street_num+\",\"+postal+\",'\"+city+\"');\\n\")\n",
    "        f.write(\"INSERT INTO Research_Center (`org_id`,`Ministry_funding`,`Private_Sector_funding`)\\nValues(\"+str(k)+\",\"+str(pub_sec)+\",\"+str(priv_sec)+\");\\n\")\n",
    "    f.write(\"INSERT INTO Organization_Phone_Number (`No_id`,`t_org_id`,`Org_Phone_number`)\\nValues(\"+str(tel)+\",\"+str(k)+\",'\"+phone+\"');\\n\")\n",
    "f.write(\"\\n\\n\")"
   ]
  },
  {
   "cell_type": "code",
   "execution_count": 81,
   "metadata": {},
   "outputs": [
    {
     "data": {
      "text/plain": [
       "2"
      ]
     },
     "execution_count": 81,
     "metadata": {},
     "output_type": "execute_result"
    }
   ],
   "source": [
    "# PROJECTS\n",
    "f.write(\"-- INSERT PROJECT ROWS\\n\\n\")\n",
    "\n",
    "\n",
    "# The dict of projects, useful for future use\n",
    "projects = {key:{key_in: None for key_in in ['title','proj_start','proj_end','org_mgmt','exec_id','prog_id','sci_supervisor']} for key in range(1,num_projects + 1)}\n",
    "\n",
    "for k in range(1,num_projects+1):\n",
    "    title = fake.catch_phrase()\n",
    "    summary = fake.text(max_nb_chars=500)\n",
    "    funding = random.randrange(100000, 1000001)\n",
    "    proj_start = fake.date_between(start_date='-4y', end_date='today')\n",
    "    duration = random.choice([\"1\",\"2\"])\n",
    "    proj_end = fake.date_between(proj_start.replace(year = proj_start.year + 1), end_date = \"+\" + duration +\"y\")\n",
    "    org_mgmt = random.choice(range(1, num_organisations + 1))\n",
    "    exec_id = random.choice(range(1, num_execs + 1))\n",
    "    prog_id = random.choice(range(1, num_progs + 1))\n",
    "    sci_supervisor = random.choice(range(1, num_researchers + 1))\n",
    "    projects[k]['title'] = title\n",
    "    projects[k]['proj_start'] = proj_start\n",
    "    projects[k]['proj_end'] = proj_end\n",
    "    projects[k]['funding'] = funding\n",
    "    projects[k]['org_mgmt'] = org_mgmt\n",
    "    projects[k]['exec_id'] = exec_id\n",
    "    projects[k]['prog_id'] = prog_id\n",
    "    projects[k]['sci_supervisor'] = sci_supervisor\n",
    "    f.write(\"INSERT INTO Projects (`Title`, `Summary`, `Funding`, `Starting_Date`, `Ending_Date`, `org_mgmt`, `exec_id`, `prog_id`, `sci_supervisor` )\\nValues('\"+ title +\"','\"+summary+\"',\"+str(funding)+\",'\"+str(proj_start)+\"','\"+str(proj_end)+\"',\"+str(org_mgmt)+\",\"+str(exec_id)+\",\"+str(prog_id)+\",\"+str(sci_supervisor)+\");\\n\")\n",
    "f.write(\"\\n\\n\")"
   ]
  },
  {
   "cell_type": "code",
   "execution_count": 82,
   "metadata": {},
   "outputs": [
    {
     "data": {
      "text/plain": [
       "2"
      ]
     },
     "execution_count": 82,
     "metadata": {},
     "output_type": "execute_result"
    }
   ],
   "source": [
    "# Deliverables\n",
    "f.write(\"-- INSERT DELIVERABLES ROWS\\n\\n\")\n",
    "\n",
    "for k in range(1,num_projects+1):\n",
    "    total_dels = random.randint(10,35)\n",
    "    wp_no = 1\n",
    "    wp_divider = random.randint(1,total_dels)\n",
    "    for j in range(total_dels):\n",
    "        if ((j + 1) % wp_divider) == 0:\n",
    "            wp_divider = random.randint(1,total_dels)\n",
    "            wp_no = wp_no + 1\n",
    "        dName = \"D.\"+str(wp_no)+\".\"+str((j + 1) % wp_divider)\n",
    "        date = str(fake.date_between(projects[k]['proj_start'],projects[k]['proj_end']))\n",
    "        f.write(\"INSERT INTO Deliverable_Projects (`Project_id`,`title`,`Summary`,`Date_of_Delivery`)\\nValues(\"+str(k)+\",'\"+dName+\"','\"+summary+\"','\"+date+\"');\\n\")\n",
    "f.write(\"\\n\\n\")"
   ]
  },
  {
   "cell_type": "code",
   "execution_count": 83,
   "metadata": {},
   "outputs": [
    {
     "data": {
      "text/plain": [
       "2"
      ]
     },
     "execution_count": 83,
     "metadata": {},
     "output_type": "execute_result"
    }
   ],
   "source": [
    "# EVALUATION\n",
    "f.write(\"-- INSERT EVALUATION ROWS\\n\\n\")\n",
    "\n",
    "for k in range(1,num_projects+1):\n",
    "    researcher_id = str(random.randint(1,num_researchers))\n",
    "    start = projects[k]['proj_start']\n",
    "    date = str(fake.date_between_dates(start - datetime.timedelta(days = 2 * 365.24),start))\n",
    "    rating = str(random.randint(5,10))\n",
    "    f.write(\"INSERT INTO Evaluation (`Evaluation_id`,`Project_id`,`Researcher_id`,`Grade`,`Date_of_Evaluation`)\\nValues(\"+str(1)+\",\"+str(k)+\",\"+researcher_id+\",\"+rating+\",'\"+date+\"');\\n\")\n",
    "f.write(\"\\n\\n\")"
   ]
  },
  {
   "cell_type": "code",
   "execution_count": 84,
   "metadata": {},
   "outputs": [
    {
     "data": {
      "text/plain": [
       "2"
      ]
     },
     "execution_count": 84,
     "metadata": {},
     "output_type": "execute_result"
    }
   ],
   "source": [
    "# WORKS_FOR\n",
    "f.write(\"-- INSERT WORKS FOR ROWS\\n\\n\")\n",
    "\n",
    "\n",
    "for reasercher in range(1,num_researchers+1):\n",
    "    org_id = random.choice(range(1,num_organisations+1))\n",
    "    date_joined = str(fake.date_between_dates(res_info[reasercher]['date_of_birth'] + datetime.timedelta(days = 18 * 365.25) , datetime.datetime.today()))\n",
    "    f.write(\"INSERT INTO Works_for (`org_id`,`Researcher_id`,`Start_date`)\\nValues(\"+str(org_id)+\",\"+str(res_info[reasercher]['id'])+\",'\"+date_joined+\"');\\n\")\n",
    "f.write(\"\\n\\n\")"
   ]
  },
  {
   "cell_type": "code",
   "execution_count": 85,
   "metadata": {},
   "outputs": [],
   "source": [
    "# wORKS_in_proj\n",
    "\n",
    "for researcher in range(1,num_researchers+1):\n",
    "    proj_id = random.choice(range(1,num_projects+1))\n",
    "    f.write(\"INSERT INTO works_in_proj (`proj_id`,`Researcher_id`)\\nValues(\"+str(proj_id)+\",\"+str(researcher)+\");\\n\")\n"
   ]
  },
  {
   "cell_type": "code",
   "execution_count": 86,
   "metadata": {},
   "outputs": [],
   "source": [
    "# SCIENTIFIC FIELDS OF PROJECT\n",
    "\n",
    "for project in (range(1,num_projects + 1)):\n",
    "    mem = []\n",
    "    for num_scis in range(1,random.randint(2,4)):\n",
    "        sci_id = random.choice(range(1,len(sci_fi_fields)+1))\n",
    "        while (sci_id in mem):\n",
    "            sci_id = random.choice(range(1,len(sci_fi_fields)+1))\n",
    "        f.write(\"INSERT INTO Scientific_Fields_of_Project (`sci_id`,`Project_id`)\\nValues(\"+str(sci_id)+\",\"+str(project)+\");\\n\")\n",
    "        mem.append(sci_id)\n",
    "        \n",
    "            \n",
    "f.close()"
   ]
  }
 ],
 "metadata": {
  "interpreter": {
   "hash": "31f2aee4e71d21fbe5cf8b01ff0e069b9275f58929596ceb00d14d90e3e16cd6"
  },
  "kernelspec": {
   "display_name": "Python 3.8.10 64-bit",
   "language": "python",
   "name": "python3"
  },
  "language_info": {
   "codemirror_mode": {
    "name": "ipython",
    "version": 3
   },
   "file_extension": ".py",
   "mimetype": "text/x-python",
   "name": "python",
   "nbconvert_exporter": "python",
   "pygments_lexer": "ipython3",
   "version": "3.8.10"
  },
  "orig_nbformat": 4
 },
 "nbformat": 4,
 "nbformat_minor": 2
}
